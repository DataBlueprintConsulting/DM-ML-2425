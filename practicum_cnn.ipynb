{
 "cells": [
  {
   "cell_type": "markdown",
   "metadata": {},
   "source": [
    "## Cell 1\n",
    "In this cell, we import all the libraries needed for the project:\n",
    "- **NumPy** and **Pandas** for data handling.\n",
    "- **TensorFlow** (with `layers` and `models`) for building and training the CNN.\n",
    "- **sklearn.model_selection** for splitting the data into training and validation sets.\n",
    "- **sklearn.metrics** for performance metrics.\n",
    "- (Optionally) `KerasClassifier` from `scikeras.wrappers`, if we decide to wrap our Keras model for scikit-learn."
   ]
  },
  {
   "cell_type": "code",
   "execution_count": 89,
   "metadata": {},
   "outputs": [],
   "source": [
    "import numpy as np\n",
    "import pandas as pd\n",
    "\n",
    "# For the CNN model\n",
    "import tensorflow as tf\n",
    "from tensorflow.keras import layers, models\n",
    "\n",
    "# For splitting data and evaluating performance\n",
    "from sklearn.model_selection import train_test_split\n",
    "from sklearn.metrics import classification_report, accuracy_score\n",
    "\n",
    "# Import necessary libraries for ROC curve\n",
    "from sklearn.metrics import roc_curve, auc\n",
    "import matplotlib.pyplot as plt\n"
   ]
  },
  {
   "cell_type": "markdown",
   "metadata": {},
   "source": [
    "## Cell 2\n",
    "Here, we:\n",
    "1. Define a `project_dir` to keep track of where our data files are located.\n",
    "2. Construct full paths for the training and test CSV files.\n",
    "3. Read these CSV files into Pandas DataFrames (`df_train` and `df_test`) without headers, since we know the data doesn't have a header row."
   ]
  },
  {
   "cell_type": "code",
   "execution_count": 90,
   "metadata": {},
   "outputs": [],
   "source": [
    "train_file_path = './trainData/53_train.csv'\n",
    "test_file_path = './trainData/53_test.csv'\n",
    "\n",
    "\n",
    "df_train = pd.read_csv(train_file_path, header=None)\n",
    "df_test  = pd.read_csv(test_file_path, header=None)\n",
    "\n",
    "def replace_zeros_with_mean(df: pd.DataFrame) -> pd.DataFrame:\n",
    "    df = df.copy()  \n",
    "    for col in df.columns:\n",
    "        non_zero_mean = df.loc[df[col] != 0, col].mean()\n",
    "        df.loc[df[col] == 0, col] = non_zero_mean\n",
    "    return df\n",
    "\n",
    "df_train_no_zeros = replace_zeros_with_mean(df_train)\n",
    "df_test_no_zeros  = replace_zeros_with_mean(df_test)\n"
   ]
  },
  {
   "cell_type": "markdown",
   "metadata": {},
   "source": [
    "## Cell 3\n",
    "- We build the target vector `y` which has 0 for the first 2500 samples and 1 for the next 2500 samples.\n",
    "- We reshape our training data into a 4D array suitable for a CNN: `(number of samples, height=8, width=9, channels=1)`."
   ]
  },
  {
   "cell_type": "code",
   "execution_count": 91,
   "metadata": {},
   "outputs": [],
   "source": [
    "y = np.array([0] * 2500 + [1] * 2500)\n",
    "\n",
    "X = df_train.values.reshape(-1, 8, 9, 1)"
   ]
  },
  {
   "cell_type": "markdown",
   "metadata": {},
   "source": [
    "## Cell 4\n",
    "1. We split our data (`X`, `y`) into training and validation subsets using an 80/20 ratio.\n",
    "2. We construct a simple convolutional neural network:\n",
    "   - **Conv2D** layers for feature extraction.\n",
    "   - **MaxPooling2D** to reduce spatial dimensions.\n",
    "   - **Flatten** to convert 2D feature maps into a 1D vector.\n",
    "   - **Dense** layers for classification.\n",
    "3. We compile the model with **Adam** optimizer and **sparse_categorical_crossentropy** loss (suitable for integer labels)."
   ]
  },
  {
   "cell_type": "code",
   "execution_count": 92,
   "metadata": {},
   "outputs": [
    {
     "name": "stderr",
     "output_type": "stream",
     "text": [
      "/opt/anaconda3/lib/python3.11/site-packages/keras/src/layers/convolutional/base_conv.py:107: UserWarning: Do not pass an `input_shape`/`input_dim` argument to a layer. When using Sequential models, prefer using an `Input(shape)` object as the first layer in the model instead.\n",
      "  super().__init__(activity_regularizer=activity_regularizer, **kwargs)\n"
     ]
    }
   ],
   "source": [
    "X_train, X_val, y_train, y_val = train_test_split(\n",
    "    X,\n",
    "    y,\n",
    "    test_size=0.2,\n",
    "    random_state=42,\n",
    "    stratify=y\n",
    ")\n",
    "\n",
    "cnn_model = models.Sequential([\n",
    "    layers.Conv2D(32, (3, 3), activation='relu', input_shape=(8, 9, 1)),\n",
    "    layers.MaxPooling2D((2, 2)),\n",
    "    layers.Conv2D(64, (3, 3), activation='relu'),\n",
    "    layers.Flatten(),\n",
    "    layers.Dense(64, activation='relu'),\n",
    "    layers.Dense(2, activation='softmax')\n",
    "])\n",
    "\n",
    "cnn_model.compile(\n",
    "    optimizer='adam',\n",
    "    loss='sparse_categorical_crossentropy',\n",
    "    metrics=['accuracy']\n",
    ")"
   ]
  },
  {
   "cell_type": "markdown",
   "metadata": {},
   "source": [
    "## Cell 5\n",
    "We train the CNN model with:\n",
    "- **50 epochs**,\n",
    "- **batch size** of 32,\n",
    "- using our training data and labels (`X_train`, `y_train`) and validating on (`X_val`, `y_val`).\n",
    "The training output is stored in `history`, which tracks loss and accuracy over epochs."
   ]
  },
  {
   "cell_type": "code",
   "execution_count": 93,
   "metadata": {},
   "outputs": [
    {
     "name": "stdout",
     "output_type": "stream",
     "text": [
      "Epoch 1/50\n",
      "\u001b[1m125/125\u001b[0m \u001b[32m━━━━━━━━━━━━━━━━━━━━\u001b[0m\u001b[37m\u001b[0m \u001b[1m0s\u001b[0m 1ms/step - accuracy: 0.6920 - loss: 1.6590 - val_accuracy: 0.8270 - val_loss: 0.3837\n",
      "Epoch 2/50\n",
      "\u001b[1m125/125\u001b[0m \u001b[32m━━━━━━━━━━━━━━━━━━━━\u001b[0m\u001b[37m\u001b[0m \u001b[1m0s\u001b[0m 809us/step - accuracy: 0.8326 - loss: 0.3997 - val_accuracy: 0.8570 - val_loss: 0.3361\n",
      "Epoch 3/50\n",
      "\u001b[1m125/125\u001b[0m \u001b[32m━━━━━━━━━━━━━━━━━━━━\u001b[0m\u001b[37m\u001b[0m \u001b[1m0s\u001b[0m 809us/step - accuracy: 0.8420 - loss: 0.3943 - val_accuracy: 0.8180 - val_loss: 0.4634\n",
      "Epoch 4/50\n",
      "\u001b[1m125/125\u001b[0m \u001b[32m━━━━━━━━━━━━━━━━━━━━\u001b[0m\u001b[37m\u001b[0m \u001b[1m0s\u001b[0m 798us/step - accuracy: 0.8717 - loss: 0.3112 - val_accuracy: 0.8730 - val_loss: 0.3065\n",
      "Epoch 5/50\n",
      "\u001b[1m125/125\u001b[0m \u001b[32m━━━━━━━━━━━━━━━━━━━━\u001b[0m\u001b[37m\u001b[0m \u001b[1m0s\u001b[0m 812us/step - accuracy: 0.8694 - loss: 0.3032 - val_accuracy: 0.8740 - val_loss: 0.2778\n",
      "Epoch 6/50\n",
      "\u001b[1m125/125\u001b[0m \u001b[32m━━━━━━━━━━━━━━━━━━━━\u001b[0m\u001b[37m\u001b[0m \u001b[1m0s\u001b[0m 797us/step - accuracy: 0.8973 - loss: 0.2608 - val_accuracy: 0.8740 - val_loss: 0.2845\n",
      "Epoch 7/50\n",
      "\u001b[1m125/125\u001b[0m \u001b[32m━━━━━━━━━━━━━━━━━━━━\u001b[0m\u001b[37m\u001b[0m \u001b[1m0s\u001b[0m 799us/step - accuracy: 0.8912 - loss: 0.2651 - val_accuracy: 0.8960 - val_loss: 0.2485\n",
      "Epoch 8/50\n",
      "\u001b[1m125/125\u001b[0m \u001b[32m━━━━━━━━━━━━━━━━━━━━\u001b[0m\u001b[37m\u001b[0m \u001b[1m0s\u001b[0m 800us/step - accuracy: 0.9073 - loss: 0.2205 - val_accuracy: 0.8820 - val_loss: 0.2662\n",
      "Epoch 9/50\n",
      "\u001b[1m125/125\u001b[0m \u001b[32m━━━━━━━━━━━━━━━━━━━━\u001b[0m\u001b[37m\u001b[0m \u001b[1m0s\u001b[0m 801us/step - accuracy: 0.9064 - loss: 0.2260 - val_accuracy: 0.8760 - val_loss: 0.2655\n",
      "Epoch 10/50\n",
      "\u001b[1m125/125\u001b[0m \u001b[32m━━━━━━━━━━━━━━━━━━━━\u001b[0m\u001b[37m\u001b[0m \u001b[1m0s\u001b[0m 817us/step - accuracy: 0.9024 - loss: 0.2299 - val_accuracy: 0.8400 - val_loss: 0.3576\n",
      "Epoch 11/50\n",
      "\u001b[1m125/125\u001b[0m \u001b[32m━━━━━━━━━━━━━━━━━━━━\u001b[0m\u001b[37m\u001b[0m \u001b[1m0s\u001b[0m 797us/step - accuracy: 0.9029 - loss: 0.2267 - val_accuracy: 0.8990 - val_loss: 0.2145\n",
      "Epoch 12/50\n",
      "\u001b[1m125/125\u001b[0m \u001b[32m━━━━━━━━━━━━━━━━━━━━\u001b[0m\u001b[37m\u001b[0m \u001b[1m0s\u001b[0m 795us/step - accuracy: 0.9158 - loss: 0.2059 - val_accuracy: 0.8920 - val_loss: 0.2483\n",
      "Epoch 13/50\n",
      "\u001b[1m125/125\u001b[0m \u001b[32m━━━━━━━━━━━━━━━━━━━━\u001b[0m\u001b[37m\u001b[0m \u001b[1m0s\u001b[0m 795us/step - accuracy: 0.9110 - loss: 0.2184 - val_accuracy: 0.8920 - val_loss: 0.2675\n",
      "Epoch 14/50\n",
      "\u001b[1m125/125\u001b[0m \u001b[32m━━━━━━━━━━━━━━━━━━━━\u001b[0m\u001b[37m\u001b[0m \u001b[1m0s\u001b[0m 802us/step - accuracy: 0.9020 - loss: 0.2251 - val_accuracy: 0.8920 - val_loss: 0.2505\n",
      "Epoch 15/50\n",
      "\u001b[1m125/125\u001b[0m \u001b[32m━━━━━━━━━━━━━━━━━━━━\u001b[0m\u001b[37m\u001b[0m \u001b[1m0s\u001b[0m 867us/step - accuracy: 0.9112 - loss: 0.2055 - val_accuracy: 0.8650 - val_loss: 0.3133\n",
      "Epoch 16/50\n",
      "\u001b[1m125/125\u001b[0m \u001b[32m━━━━━━━━━━━━━━━━━━━━\u001b[0m\u001b[37m\u001b[0m \u001b[1m0s\u001b[0m 822us/step - accuracy: 0.9142 - loss: 0.2022 - val_accuracy: 0.8950 - val_loss: 0.2374\n",
      "Epoch 17/50\n",
      "\u001b[1m125/125\u001b[0m \u001b[32m━━━━━━━━━━━━━━━━━━━━\u001b[0m\u001b[37m\u001b[0m \u001b[1m0s\u001b[0m 801us/step - accuracy: 0.9272 - loss: 0.1942 - val_accuracy: 0.8750 - val_loss: 0.2774\n",
      "Epoch 18/50\n",
      "\u001b[1m125/125\u001b[0m \u001b[32m━━━━━━━━━━━━━━━━━━━━\u001b[0m\u001b[37m\u001b[0m \u001b[1m0s\u001b[0m 810us/step - accuracy: 0.9236 - loss: 0.1924 - val_accuracy: 0.9110 - val_loss: 0.2145\n",
      "Epoch 19/50\n",
      "\u001b[1m125/125\u001b[0m \u001b[32m━━━━━━━━━━━━━━━━━━━━\u001b[0m\u001b[37m\u001b[0m \u001b[1m0s\u001b[0m 995us/step - accuracy: 0.8982 - loss: 0.2412 - val_accuracy: 0.8990 - val_loss: 0.2271\n",
      "Epoch 20/50\n",
      "\u001b[1m125/125\u001b[0m \u001b[32m━━━━━━━━━━━━━━━━━━━━\u001b[0m\u001b[37m\u001b[0m \u001b[1m0s\u001b[0m 852us/step - accuracy: 0.9221 - loss: 0.1808 - val_accuracy: 0.8970 - val_loss: 0.2381\n",
      "Epoch 21/50\n",
      "\u001b[1m125/125\u001b[0m \u001b[32m━━━━━━━━━━━━━━━━━━━━\u001b[0m\u001b[37m\u001b[0m \u001b[1m0s\u001b[0m 841us/step - accuracy: 0.9205 - loss: 0.1900 - val_accuracy: 0.9090 - val_loss: 0.2367\n",
      "Epoch 22/50\n",
      "\u001b[1m125/125\u001b[0m \u001b[32m━━━━━━━━━━━━━━━━━━━━\u001b[0m\u001b[37m\u001b[0m \u001b[1m0s\u001b[0m 805us/step - accuracy: 0.9286 - loss: 0.1650 - val_accuracy: 0.9030 - val_loss: 0.2224\n",
      "Epoch 23/50\n",
      "\u001b[1m125/125\u001b[0m \u001b[32m━━━━━━━━━━━━━━━━━━━━\u001b[0m\u001b[37m\u001b[0m \u001b[1m0s\u001b[0m 813us/step - accuracy: 0.9283 - loss: 0.1773 - val_accuracy: 0.9010 - val_loss: 0.2453\n",
      "Epoch 24/50\n",
      "\u001b[1m125/125\u001b[0m \u001b[32m━━━━━━━━━━━━━━━━━━━━\u001b[0m\u001b[37m\u001b[0m \u001b[1m0s\u001b[0m 810us/step - accuracy: 0.9214 - loss: 0.1818 - val_accuracy: 0.8920 - val_loss: 0.2694\n",
      "Epoch 25/50\n",
      "\u001b[1m125/125\u001b[0m \u001b[32m━━━━━━━━━━━━━━━━━━━━\u001b[0m\u001b[37m\u001b[0m \u001b[1m0s\u001b[0m 880us/step - accuracy: 0.9316 - loss: 0.1680 - val_accuracy: 0.8930 - val_loss: 0.2331\n",
      "Epoch 26/50\n",
      "\u001b[1m125/125\u001b[0m \u001b[32m━━━━━━━━━━━━━━━━━━━━\u001b[0m\u001b[37m\u001b[0m \u001b[1m0s\u001b[0m 918us/step - accuracy: 0.9350 - loss: 0.1500 - val_accuracy: 0.9200 - val_loss: 0.2025\n",
      "Epoch 27/50\n",
      "\u001b[1m125/125\u001b[0m \u001b[32m━━━━━━━━━━━━━━━━━━━━\u001b[0m\u001b[37m\u001b[0m \u001b[1m0s\u001b[0m 865us/step - accuracy: 0.9387 - loss: 0.1675 - val_accuracy: 0.9140 - val_loss: 0.2037\n",
      "Epoch 28/50\n",
      "\u001b[1m125/125\u001b[0m \u001b[32m━━━━━━━━━━━━━━━━━━━━\u001b[0m\u001b[37m\u001b[0m \u001b[1m0s\u001b[0m 841us/step - accuracy: 0.9375 - loss: 0.1533 - val_accuracy: 0.9070 - val_loss: 0.2230\n",
      "Epoch 29/50\n",
      "\u001b[1m125/125\u001b[0m \u001b[32m━━━━━━━━━━━━━━━━━━━━\u001b[0m\u001b[37m\u001b[0m \u001b[1m0s\u001b[0m 869us/step - accuracy: 0.9381 - loss: 0.1427 - val_accuracy: 0.9010 - val_loss: 0.2534\n",
      "Epoch 30/50\n",
      "\u001b[1m125/125\u001b[0m \u001b[32m━━━━━━━━━━━━━━━━━━━━\u001b[0m\u001b[37m\u001b[0m \u001b[1m0s\u001b[0m 892us/step - accuracy: 0.9220 - loss: 0.1897 - val_accuracy: 0.8890 - val_loss: 0.2629\n",
      "Epoch 31/50\n",
      "\u001b[1m125/125\u001b[0m \u001b[32m━━━━━━━━━━━━━━━━━━━━\u001b[0m\u001b[37m\u001b[0m \u001b[1m0s\u001b[0m 865us/step - accuracy: 0.9365 - loss: 0.1648 - val_accuracy: 0.8860 - val_loss: 0.2695\n",
      "Epoch 32/50\n",
      "\u001b[1m125/125\u001b[0m \u001b[32m━━━━━━━━━━━━━━━━━━━━\u001b[0m\u001b[37m\u001b[0m \u001b[1m0s\u001b[0m 852us/step - accuracy: 0.9212 - loss: 0.1903 - val_accuracy: 0.9190 - val_loss: 0.2093\n",
      "Epoch 33/50\n",
      "\u001b[1m125/125\u001b[0m \u001b[32m━━━━━━━━━━━━━━━━━━━━\u001b[0m\u001b[37m\u001b[0m \u001b[1m0s\u001b[0m 868us/step - accuracy: 0.9426 - loss: 0.1475 - val_accuracy: 0.8880 - val_loss: 0.2960\n",
      "Epoch 34/50\n",
      "\u001b[1m125/125\u001b[0m \u001b[32m━━━━━━━━━━━━━━━━━━━━\u001b[0m\u001b[37m\u001b[0m \u001b[1m0s\u001b[0m 1ms/step - accuracy: 0.9295 - loss: 0.1657 - val_accuracy: 0.8960 - val_loss: 0.2525\n",
      "Epoch 35/50\n",
      "\u001b[1m125/125\u001b[0m \u001b[32m━━━━━━━━━━━━━━━━━━━━\u001b[0m\u001b[37m\u001b[0m \u001b[1m0s\u001b[0m 916us/step - accuracy: 0.9380 - loss: 0.1376 - val_accuracy: 0.9110 - val_loss: 0.2367\n",
      "Epoch 36/50\n",
      "\u001b[1m125/125\u001b[0m \u001b[32m━━━━━━━━━━━━━━━━━━━━\u001b[0m\u001b[37m\u001b[0m \u001b[1m0s\u001b[0m 819us/step - accuracy: 0.9319 - loss: 0.1599 - val_accuracy: 0.9220 - val_loss: 0.2103\n",
      "Epoch 37/50\n",
      "\u001b[1m125/125\u001b[0m \u001b[32m━━━━━━━━━━━━━━━━━━━━\u001b[0m\u001b[37m\u001b[0m \u001b[1m0s\u001b[0m 791us/step - accuracy: 0.9463 - loss: 0.1402 - val_accuracy: 0.9020 - val_loss: 0.2477\n",
      "Epoch 38/50\n",
      "\u001b[1m125/125\u001b[0m \u001b[32m━━━━━━━━━━━━━━━━━━━━\u001b[0m\u001b[37m\u001b[0m \u001b[1m0s\u001b[0m 787us/step - accuracy: 0.9418 - loss: 0.1347 - val_accuracy: 0.9280 - val_loss: 0.2003\n",
      "Epoch 39/50\n",
      "\u001b[1m125/125\u001b[0m \u001b[32m━━━━━━━━━━━━━━━━━━━━\u001b[0m\u001b[37m\u001b[0m \u001b[1m0s\u001b[0m 790us/step - accuracy: 0.9516 - loss: 0.1132 - val_accuracy: 0.8960 - val_loss: 0.2349\n",
      "Epoch 40/50\n",
      "\u001b[1m125/125\u001b[0m \u001b[32m━━━━━━━━━━━━━━━━━━━━\u001b[0m\u001b[37m\u001b[0m \u001b[1m0s\u001b[0m 899us/step - accuracy: 0.9497 - loss: 0.1212 - val_accuracy: 0.9210 - val_loss: 0.2423\n",
      "Epoch 41/50\n",
      "\u001b[1m125/125\u001b[0m \u001b[32m━━━━━━━━━━━━━━━━━━━━\u001b[0m\u001b[37m\u001b[0m \u001b[1m0s\u001b[0m 780us/step - accuracy: 0.9489 - loss: 0.1272 - val_accuracy: 0.8650 - val_loss: 0.3396\n",
      "Epoch 42/50\n",
      "\u001b[1m125/125\u001b[0m \u001b[32m━━━━━━━━━━━━━━━━━━━━\u001b[0m\u001b[37m\u001b[0m \u001b[1m0s\u001b[0m 784us/step - accuracy: 0.9412 - loss: 0.1368 - val_accuracy: 0.9210 - val_loss: 0.2248\n",
      "Epoch 43/50\n",
      "\u001b[1m125/125\u001b[0m \u001b[32m━━━━━━━━━━━━━━━━━━━━\u001b[0m\u001b[37m\u001b[0m \u001b[1m0s\u001b[0m 795us/step - accuracy: 0.9412 - loss: 0.1371 - val_accuracy: 0.9160 - val_loss: 0.2313\n",
      "Epoch 44/50\n",
      "\u001b[1m125/125\u001b[0m \u001b[32m━━━━━━━━━━━━━━━━━━━━\u001b[0m\u001b[37m\u001b[0m \u001b[1m0s\u001b[0m 783us/step - accuracy: 0.9584 - loss: 0.1156 - val_accuracy: 0.9240 - val_loss: 0.2050\n",
      "Epoch 45/50\n",
      "\u001b[1m125/125\u001b[0m \u001b[32m━━━━━━━━━━━━━━━━━━━━\u001b[0m\u001b[37m\u001b[0m \u001b[1m0s\u001b[0m 797us/step - accuracy: 0.9522 - loss: 0.1161 - val_accuracy: 0.9000 - val_loss: 0.2630\n",
      "Epoch 46/50\n",
      "\u001b[1m125/125\u001b[0m \u001b[32m━━━━━━━━━━━━━━━━━━━━\u001b[0m\u001b[37m\u001b[0m \u001b[1m0s\u001b[0m 795us/step - accuracy: 0.9326 - loss: 0.1674 - val_accuracy: 0.9160 - val_loss: 0.2444\n",
      "Epoch 47/50\n",
      "\u001b[1m125/125\u001b[0m \u001b[32m━━━━━━━━━━━━━━━━━━━━\u001b[0m\u001b[37m\u001b[0m \u001b[1m0s\u001b[0m 782us/step - accuracy: 0.9529 - loss: 0.1180 - val_accuracy: 0.9190 - val_loss: 0.2093\n",
      "Epoch 48/50\n",
      "\u001b[1m125/125\u001b[0m \u001b[32m━━━━━━━━━━━━━━━━━━━━\u001b[0m\u001b[37m\u001b[0m \u001b[1m0s\u001b[0m 777us/step - accuracy: 0.9350 - loss: 0.1551 - val_accuracy: 0.9320 - val_loss: 0.1964\n",
      "Epoch 49/50\n",
      "\u001b[1m125/125\u001b[0m \u001b[32m━━━━━━━━━━━━━━━━━━━━\u001b[0m\u001b[37m\u001b[0m \u001b[1m0s\u001b[0m 782us/step - accuracy: 0.9591 - loss: 0.1083 - val_accuracy: 0.9020 - val_loss: 0.2715\n",
      "Epoch 50/50\n",
      "\u001b[1m125/125\u001b[0m \u001b[32m━━━━━━━━━━━━━━━━━━━━\u001b[0m\u001b[37m\u001b[0m \u001b[1m0s\u001b[0m 786us/step - accuracy: 0.9570 - loss: 0.1159 - val_accuracy: 0.9260 - val_loss: 0.2099\n"
     ]
    }
   ],
   "source": [
    "history = cnn_model.fit(\n",
    "    X_train,\n",
    "    y_train,\n",
    "    epochs=50,\n",
    "    batch_size=32,\n",
    "    validation_data=(X_val, y_val),\n",
    "    verbose=1\n",
    ")"
   ]
  },
  {
   "cell_type": "markdown",
   "metadata": {},
   "source": [
    "## Cell 6\n",
    "- We reshape the test data (`df_test`) to the same shape as the training data for predictions if needed.\n",
    "- Here, we demonstrate prediction on the validation set (`X_val`) and compute:\n",
    "  - The distribution of predicted classes.\n",
    "  - The accuracy and error rate.\n",
    "  - The classification report, which provides precision, recall, and F1 scores.\n",
    "- Finally, we print out class distribution and performance metrics.\n"
   ]
  },
  {
   "cell_type": "code",
   "execution_count": 94,
   "metadata": {},
   "outputs": [
    {
     "name": "stdout",
     "output_type": "stream",
     "text": [
      "\u001b[1m32/32\u001b[0m \u001b[32m━━━━━━━━━━━━━━━━━━━━\u001b[0m\u001b[37m\u001b[0m \u001b[1m0s\u001b[0m 754us/step\n",
      "Predicted Class Distribution:\n",
      "Class 0: 496 records\n",
      "Class 1: 504 records\n",
      "\n",
      "Class Split:\n",
      "Class 0: 49.60%\n",
      "Class 1: 50.40%\n",
      "\n",
      "Accuracy: 0.93\n",
      "Error Rate: 0.07\n",
      "\n",
      "Classification Report:\n",
      "               precision    recall  f1-score   support\n",
      "\n",
      "           0       0.93      0.92      0.93       500\n",
      "           1       0.92      0.93      0.93       500\n",
      "\n",
      "    accuracy                           0.93      1000\n",
      "   macro avg       0.93      0.93      0.93      1000\n",
      "weighted avg       0.93      0.93      0.93      1000\n",
      "\n"
     ]
    }
   ],
   "source": [
    "# Reshape the test data the same way as training\n",
    "X_test = df_test.values.reshape(-1, 8, 9, 1)\n",
    "\n",
    "# Predict on the validation set to evaluate performance\n",
    "y_pred_proba = cnn_model.predict(X_val)\n",
    "y_pred_label = np.argmax(y_pred_proba, axis=1)\n",
    "\n",
    "# Determine the distribution of predicted classes\n",
    "unique_labels, label_counts = np.unique(y_pred_label, return_counts=True)\n",
    "class_distribution = dict(zip(unique_labels, label_counts))\n",
    "\n",
    "# Display results\n",
    "print(\"Predicted Class Distribution:\")\n",
    "for label, count in class_distribution.items():\n",
    "    print(f\"Class {label}: {count} records\")\n",
    "\n",
    "print(\"\\nClass Split:\")\n",
    "total_pred_samples = len(y_pred_label)\n",
    "for label, count in class_distribution.items():\n",
    "    pct = (count / total_pred_samples) * 100\n",
    "    print(f\"Class {label}: {pct:.2f}%\")\n",
    "\n",
    "acc = accuracy_score(y_val, y_pred_label)\n",
    "err = 1 - acc\n",
    "print(f\"\\nAccuracy: {acc:.2f}\")\n",
    "print(f\"Error Rate: {err:.2f}\")\n",
    "\n",
    "print(\"\\nClassification Report:\\n\", classification_report(y_val, y_pred_label))"
   ]
  },
  {
   "cell_type": "code",
   "execution_count": 101,
   "metadata": {},
   "outputs": [
    {
     "name": "stdout",
     "output_type": "stream",
     "text": [
      "\u001b[1m1563/1563\u001b[0m \u001b[32m━━━━━━━━━━━━━━━━━━━━\u001b[0m\u001b[37m\u001b[0m \u001b[1m0s\u001b[0m 254us/step\n",
      "Test Set Predicted Class Distribution:\n",
      "Class 0: 33153 records (66.31%)\n",
      "Class 1: 16847 records (33.69%)\n",
      "\n",
      "Class split: 0.66-0.34\n",
      "\n",
      "Test predictions saved to: output/ccn_output.csv\n"
     ]
    }
   ],
   "source": [
    "y_test_proba = cnn_model.predict(X_test)\n",
    "y_test_label = np.argmax(y_test_proba, axis=1)  \n",
    "test_class_vals, test_class_counts = np.unique(y_test_label, return_counts=True)\n",
    "class_proportions_test = {\n",
    "    c_val: c_count / len(y_test_label) for c_val, c_count in zip(test_class_vals, test_class_counts)\n",
    "    \n",
    "}\n",
    "prop_str_test = \"-\".join([\n",
    "    f\"{class_proportions_test[c_val]:.2f}\" for c_val in sorted(class_proportions_test.keys())\n",
    "])\n",
    "\n",
    "print(\"Test Set Predicted Class Distribution:\")\n",
    "for c_val, c_count in zip(test_class_vals, test_class_counts):\n",
    "    print(f\"Class {c_val}: {c_count} records ({class_proportions_test[c_val] * 100:.2f}%)\")\n",
    "\n",
    "print(f\"\\nClass split: {prop_str_test}\")\n",
    "\n",
    "output_path = f\"output/ccn_output.csv\"\n",
    "pd.DataFrame(y_test_label, columns=['Class']).to_csv(output_path, index=False, header=False)\n",
    "\n",
    "print(f\"\\nTest predictions saved to: {output_path}\")\n"
   ]
  },
  {
   "cell_type": "code",
   "execution_count": null,
   "metadata": {},
   "outputs": [
    {
     "name": "stdout",
     "output_type": "stream",
     "text": [
      "\u001b[1m32/32\u001b[0m \u001b[32m━━━━━━━━━━━━━━━━━━━━\u001b[0m\u001b[37m\u001b[0m \u001b[1m0s\u001b[0m 514us/step\n",
      "Predicted Class Distribution:\n",
      "Class 0: 530 records\n",
      "Class 1: 470 records\n",
      "\n",
      "Class Split:\n",
      "Class 0: 53.00%\n",
      "Class 1: 47.00%\n",
      "\n",
      "Accuracy: 0.91\n",
      "Error Rate: 0.09\n",
      "\n",
      "Classification Report:\n",
      "               precision    recall  f1-score   support\n",
      "\n",
      "           0       0.89      0.94      0.92       500\n",
      "           1       0.94      0.88      0.91       500\n",
      "\n",
      "    accuracy                           0.91      1000\n",
      "   macro avg       0.92      0.91      0.91      1000\n",
      "weighted avg       0.92      0.91      0.91      1000\n",
      "\n"
     ]
    },
    {
     "data": {
      "image/png": "[encoded data removed]",
      "text/plain": [
       "<Figure size 800x600 with 1 Axes>"
      ]
     },
     "metadata": {},
     "output_type": "display_data"
    }
   ],
   "source": [
    "X_test = df_test.values.reshape(-1, 8, 9, 1)\n",
    "\n",
    "y_pred_proba = cnn_model.predict(X_val)\n",
    "y_pred_label = np.argmax(y_pred_proba, axis=1)\n",
    "\n",
    "unique_labels, label_counts = np.unique(y_pred_label, return_counts=True)\n",
    "class_distribution = dict(zip(unique_labels, label_counts))\n",
    "\n",
    "print(\"Predicted Class Distribution:\")\n",
    "for label, count in class_distribution.items():\n",
    "    print(f\"Class {label}: {count} records\")\n",
    "\n",
    "print(\"\\nClass Split:\")\n",
    "total_pred_samples = len(y_pred_label)\n",
    "for label, count in class_distribution.items():\n",
    "    pct = (count / total_pred_samples) * 100\n",
    "    print(f\"Class {label}: {pct:.2f}%\")\n",
    "\n",
    "acc = accuracy_score(y_val, y_pred_label)\n",
    "err = 1 - acc\n",
    "print(f\"\\nAccuracy: {acc:.2f}\")\n",
    "print(f\"Error Rate: {err:.2f}\")\n",
    "\n",
    "print(\"\\nClassification Report:\\n\", classification_report(y_val, y_pred_label))\n",
    "\n",
    "fpr, tpr, thresholds = roc_curve(y_val, y_pred_proba[:, 1]) \n",
    "roc_auc = auc(fpr, tpr)\n",
    "\n",
    "plt.figure(figsize=(8, 6))\n",
    "plt.plot(fpr, tpr, color='blue', lw=2, label=f'ROC Curve (AUC = {roc_auc:.2f})')\n",
    "plt.plot([0, 1], [0, 1], color='gray', linestyle='--', lw=2)  \n",
    "plt.xlabel('False Positive Rate (FPR)')\n",
    "plt.ylabel('True Positive Rate (TPR)')\n",
    "plt.title('Receiver Operating Characteristic (ROC) Curve')\n",
    "plt.legend(loc='lower right')\n",
    "plt.grid(True)\n",
    "plt.show()\n"
   ]
  }
 ],
 "metadata": {
  "kernelspec": {
   "display_name": "Python 3",
   "language": "python",
   "name": "python3"
  },
  "language_info": {
   "codemirror_mode": {
    "name": "ipython",
    "version": 3
   },
   "file_extension": ".py",
   "mimetype": "text/x-python",
   "name": "python",
   "nbconvert_exporter": "python",
   "pygments_lexer": "ipython3",
   "version": "3.11.7"
  }
 },
 "nbformat": 4,
 "nbformat_minor": 2
}
